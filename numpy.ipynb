{
 "cells": [
  {
   "cell_type": "code",
   "execution_count": 1,
   "id": "6239aa62-310b-41d2-8ec8-9866b2e67bf3",
   "metadata": {},
   "outputs": [],
   "source": [
    "import numpy as np"
   ]
  },
  {
   "cell_type": "code",
   "execution_count": 8,
   "id": "5f0c5dfc-c832-4b54-a60c-29e3fd0662c8",
   "metadata": {},
   "outputs": [
    {
     "name": "stdout",
     "output_type": "stream",
     "text": [
      "[1 2 3 4]\n",
      "<class 'numpy.ndarray'>\n"
     ]
    }
   ],
   "source": [
    "#array\n",
    "x=np.array([1,2,3,4])\n",
    "print(x)\n",
    "print(type(x))"
   ]
  },
  {
   "cell_type": "code",
   "execution_count": 7,
   "id": "6e49f88b-1a29-4820-8eeb-59b2ae20ee2a",
   "metadata": {},
   "outputs": [
    {
     "name": "stdout",
     "output_type": "stream",
     "text": [
      "[1, 2, 3, 4]\n",
      "<class 'list'>\n"
     ]
    }
   ],
   "source": [
    "y=[1,2,3,4]\n",
    "print(y)\n",
    "print(type(y))"
   ]
  },
  {
   "cell_type": "code",
   "execution_count": 15,
   "id": "52f7d989-83a9-4b05-9a15-2d76639bcba3",
   "metadata": {},
   "outputs": [
    {
     "name": "stdout",
     "output_type": "stream",
     "text": [
      "1.78 µs ± 81.4 ns per loop (mean ± std. dev. of 7 runs, 1,000,000 loops each)\n"
     ]
    }
   ],
   "source": [
    "%timeit [j**4 for j in range(1,9)]"
   ]
  },
  {
   "cell_type": "code",
   "execution_count": 19,
   "id": "0bd1e815-771f-44fe-ab1d-e7dc3f56242f",
   "metadata": {},
   "outputs": [
    {
     "name": "stdout",
     "output_type": "stream",
     "text": [
      "4.79 µs ± 145 ns per loop (mean ± std. dev. of 7 runs, 100,000 loops each)\n"
     ]
    }
   ],
   "source": [
    "%timeit np.arange(1,9)**4"
   ]
  },
  {
   "cell_type": "markdown",
   "id": "b8ce8f60-b493-4879-8797-c5d10b7b0b19",
   "metadata": {},
   "source": [
    "*****************Array*****"
   ]
  },
  {
   "cell_type": "code",
   "execution_count": 20,
   "id": "90d5dd2c-5b66-4bf2-b76a-c9d91712c4e6",
   "metadata": {},
   "outputs": [
    {
     "data": {
      "text/plain": [
       "array([1, 2, 3, 4])"
      ]
     },
     "execution_count": 20,
     "metadata": {},
     "output_type": "execute_result"
    }
   ],
   "source": [
    "x=[1,2,3,4]\n",
    "y=np.array(x)\n",
    "y"
   ]
  },
  {
   "cell_type": "code",
   "execution_count": 30,
   "id": "a5e10624-992e-4b2f-9ef6-b648674e8eda",
   "metadata": {},
   "outputs": [
    {
     "name": "stdout",
     "output_type": "stream",
     "text": [
      "[1 2 3 4]\n",
      "<class 'numpy.ndarray'>\n",
      "1\n"
     ]
    }
   ],
   "source": [
    "y=np.array([1, 2, 3, 4])\n",
    "print(y)\n",
    "print(type(y))\n"
   ]
  },
  {
   "cell_type": "code",
   "execution_count": 27,
   "id": "437b2037-3e5f-4d41-9108-f0d65de37033",
   "metadata": {},
   "outputs": [
    {
     "name": "stdin",
     "output_type": "stream",
     "text": [
      "enter 10\n",
      "enter 20\n",
      "enter 30\n",
      "enter 40\n"
     ]
    },
    {
     "name": "stdout",
     "output_type": "stream",
     "text": [
      "[10 20 30 40]\n"
     ]
    }
   ],
   "source": [
    "l=[]\n",
    "for i in range(1,5):\n",
    " int_1=int(input(\"enter\"))\n",
    " l.append(int_1)\n",
    "print(np.array(l))"
   ]
  },
  {
   "cell_type": "code",
   "execution_count": 31,
   "id": "2916103f-0ff5-44d3-95a7-2e9ba5f62af7",
   "metadata": {},
   "outputs": [
    {
     "name": "stdout",
     "output_type": "stream",
     "text": [
      "1\n"
     ]
    }
   ],
   "source": [
    "print(y.ndim)#dimension of array"
   ]
  },
  {
   "cell_type": "code",
   "execution_count": 34,
   "id": "fbebc8d6-2cc1-4f5d-9491-20ffa95b5b8a",
   "metadata": {},
   "outputs": [
    {
     "name": "stdout",
     "output_type": "stream",
     "text": [
      "[[1 2 3 4]\n",
      " [2 3 4 5]]\n",
      "2\n"
     ]
    }
   ],
   "source": [
    "ar2=np.array([[1,2,3,4],[2,3,4,5]])\n",
    "print(ar2)\n",
    "print(ar2.ndim)"
   ]
  },
  {
   "cell_type": "code",
   "execution_count": 35,
   "id": "10164be4-938f-4c15-89dc-167f89b9dd52",
   "metadata": {},
   "outputs": [
    {
     "ename": "ValueError",
     "evalue": "setting an array element with a sequence. The requested array has an inhomogeneous shape after 1 dimensions. The detected shape was (2,) + inhomogeneous part.",
     "output_type": "error",
     "traceback": [
      "\u001b[1;31m---------------------------------------------------------------------------\u001b[0m",
      "\u001b[1;31mValueError\u001b[0m                                Traceback (most recent call last)",
      "Cell \u001b[1;32mIn[35], line 1\u001b[0m\n\u001b[1;32m----> 1\u001b[0m ar1\u001b[38;5;241m=\u001b[39m\u001b[43mnp\u001b[49m\u001b[38;5;241;43m.\u001b[39;49m\u001b[43marray\u001b[49m\u001b[43m(\u001b[49m\u001b[43m[\u001b[49m\u001b[43m[\u001b[49m\u001b[38;5;241;43m1\u001b[39;49m\u001b[43m,\u001b[49m\u001b[38;5;241;43m2\u001b[39;49m\u001b[43m,\u001b[49m\u001b[38;5;241;43m3\u001b[39;49m\u001b[43m]\u001b[49m\u001b[43m,\u001b[49m\u001b[43m[\u001b[49m\u001b[38;5;241;43m2\u001b[39;49m\u001b[43m,\u001b[49m\u001b[38;5;241;43m3\u001b[39;49m\u001b[43m,\u001b[49m\u001b[38;5;241;43m4\u001b[39;49m\u001b[43m,\u001b[49m\u001b[38;5;241;43m5\u001b[39;49m\u001b[43m]\u001b[49m\u001b[43m]\u001b[49m\u001b[43m)\u001b[49m\n\u001b[0;32m      2\u001b[0m ar1\n",
      "\u001b[1;31mValueError\u001b[0m: setting an array element with a sequence. The requested array has an inhomogeneous shape after 1 dimensions. The detected shape was (2,) + inhomogeneous part."
     ]
    }
   ],
   "source": [
    "ar1=np.array([[1,2,3],[2,3,4,5]])#same no of parameter should be used\n",
    "ar1"
   ]
  },
  {
   "cell_type": "code",
   "execution_count": 36,
   "id": "d1a7d87a-b837-4548-8319-fb0232227ac2",
   "metadata": {},
   "outputs": [
    {
     "name": "stdout",
     "output_type": "stream",
     "text": [
      "[[[1 2 3 4]\n",
      "  [1 4 3 2]\n",
      "  [1 2 3 4]]]\n",
      "3\n"
     ]
    }
   ],
   "source": [
    "ar3=np.array([[[1,2,3,4],[1,4,3,2],[1,2,3,4]]])\n",
    "print(ar3)\n",
    "print(ar3.ndim)"
   ]
  },
  {
   "cell_type": "code",
   "execution_count": 40,
   "id": "d5c44de5-9100-4aed-9781-61eb0853ec58",
   "metadata": {},
   "outputs": [
    {
     "name": "stdout",
     "output_type": "stream",
     "text": [
      "[[[[[[[[[[1 2 3 4]]]]]]]]]]\n",
      "10\n"
     ]
    }
   ],
   "source": [
    "arn=np.array([1,2,3,4],ndmin=10)#no of dimension array can be fixed\n",
    "print(arn)\n",
    "print(arn.ndim)"
   ]
  },
  {
   "cell_type": "markdown",
   "id": "4a5584d6-ad1b-43d7-ac67-7bcf6d2a9ff7",
   "metadata": {},
   "source": [
    "********using functions**********->zeroes,ones,range,diagonal with 1's, linspaced"
   ]
  },
  {
   "cell_type": "code",
   "execution_count": 41,
   "id": "4e83e008-ca27-4f45-8059-2f9c05ba61d5",
   "metadata": {},
   "outputs": [
    {
     "data": {
      "text/plain": [
       "array([0., 0., 0., 0.])"
      ]
     },
     "execution_count": 41,
     "metadata": {},
     "output_type": "execute_result"
    }
   ],
   "source": [
    "#zeroes\n",
    "ar_zero=np.zeros(4)\n",
    "ar_zero"
   ]
  },
  {
   "cell_type": "code",
   "execution_count": 43,
   "id": "c88c2d0f-19d2-4cb5-b676-151d74232f6d",
   "metadata": {},
   "outputs": [
    {
     "data": {
      "text/plain": [
       "array([[0., 0., 0.],\n",
       "       [0., 0., 0.],\n",
       "       [0., 0., 0.],\n",
       "       [0., 0., 0.]])"
      ]
     },
     "execution_count": 43,
     "metadata": {},
     "output_type": "execute_result"
    }
   ],
   "source": [
    "ar_zero=np.zeros([4,3])\n",
    "ar_zero"
   ]
  },
  {
   "cell_type": "code",
   "execution_count": 44,
   "id": "c07bab08-7227-45aa-a7fe-abefd6bb69dc",
   "metadata": {},
   "outputs": [
    {
     "data": {
      "text/plain": [
       "array([1., 1., 1., 1.])"
      ]
     },
     "execution_count": 44,
     "metadata": {},
     "output_type": "execute_result"
    }
   ],
   "source": [
    "#ones\n",
    "ar_one=np.ones(4)\n",
    "ar_one"
   ]
  },
  {
   "cell_type": "code",
   "execution_count": 45,
   "id": "262806a8-bf1b-4b8a-baaa-d3cf8c082492",
   "metadata": {},
   "outputs": [
    {
     "data": {
      "text/plain": [
       "array([[1., 1., 1., 1., 1., 1.],\n",
       "       [1., 1., 1., 1., 1., 1.],\n",
       "       [1., 1., 1., 1., 1., 1.],\n",
       "       [1., 1., 1., 1., 1., 1.]])"
      ]
     },
     "execution_count": 45,
     "metadata": {},
     "output_type": "execute_result"
    }
   ],
   "source": [
    "ar_one=np.ones([4,6])\n",
    "ar_one"
   ]
  },
  {
   "cell_type": "code",
   "execution_count": 47,
   "id": "ea770de2-78f8-49d9-914b-5a991c1f6cc5",
   "metadata": {},
   "outputs": [
    {
     "data": {
      "text/plain": [
       "array([1., 1., 1., 1.])"
      ]
     },
     "execution_count": 47,
     "metadata": {},
     "output_type": "execute_result"
    }
   ],
   "source": [
    "#empty\n",
    "ar_em=np.empty(4)#pevious data will be come in empty element\n",
    "ar_em"
   ]
  },
  {
   "cell_type": "code",
   "execution_count": 48,
   "id": "db381a2e-428c-4add-94c8-9baf185b971f",
   "metadata": {},
   "outputs": [
    {
     "data": {
      "text/plain": [
       "array([0, 1, 2, 3])"
      ]
     },
     "execution_count": 48,
     "metadata": {},
     "output_type": "execute_result"
    }
   ],
   "source": [
    "#range\n",
    "ar_rn=np.arange(4)#same as range element\n",
    "ar_rn"
   ]
  },
  {
   "cell_type": "code",
   "execution_count": 49,
   "id": "67c39666-b202-4822-924a-6e3ccb292dd6",
   "metadata": {},
   "outputs": [
    {
     "data": {
      "text/plain": [
       "array([[1., 0., 0.],\n",
       "       [0., 1., 0.],\n",
       "       [0., 0., 1.]])"
      ]
     },
     "execution_count": 49,
     "metadata": {},
     "output_type": "execute_result"
    }
   ],
   "source": [
    "#diagonal with 1's\n",
    "ar_fin=np.eye(3)#3x3 matrix is created and diagonal contain 1 's\n",
    "ar_fin"
   ]
  },
  {
   "cell_type": "code",
   "execution_count": 51,
   "id": "3f7aeafc-896b-4c54-9569-a0ec0eb9c16c",
   "metadata": {},
   "outputs": [
    {
     "data": {
      "text/plain": [
       "array([[1., 0., 0., 0., 0.],\n",
       "       [0., 1., 0., 0., 0.],\n",
       "       [0., 0., 1., 0., 0.]])"
      ]
     },
     "execution_count": 51,
     "metadata": {},
     "output_type": "execute_result"
    }
   ],
   "source": [
    "ar_fin=np.eye(3,5)#3x5 matrix is created and diagonal contain 1 's\n",
    "ar_fin"
   ]
  },
  {
   "cell_type": "code",
   "execution_count": 54,
   "id": "71b62a68-6b5c-4410-8492-7ba1b046f579",
   "metadata": {},
   "outputs": [
    {
     "data": {
      "text/plain": [
       "array([ 1.  ,  3.25,  5.5 ,  7.75, 10.  ])"
      ]
     },
     "execution_count": 54,
     "metadata": {},
     "output_type": "execute_result"
    }
   ],
   "source": [
    "### line spaced\n",
    "ar_lin=np.linspace(1,10,num=5)# first two elements are range and third elements are no of elements\n",
    "ar_lin"
   ]
  },
  {
   "cell_type": "markdown",
   "id": "4fc59166-7ff4-4391-9652-f43489f8abec",
   "metadata": {},
   "source": [
    "************Array with random number*******->rand(),randn(),ranf(),randint()"
   ]
  },
  {
   "cell_type": "code",
   "execution_count": 56,
   "id": "7d1c7f11-83a5-4dbd-8840-70d63e617846",
   "metadata": {},
   "outputs": [
    {
     "data": {
      "text/plain": [
       "array([0.2724512 , 0.43059014, 0.43182587, 0.29894993])"
      ]
     },
     "execution_count": 56,
     "metadata": {},
     "output_type": "execute_result"
    }
   ],
   "source": [
    "#rand()->between 0 and 1,values changes for every run\n",
    "var=np.random.rand(4)\n",
    "var"
   ]
  },
  {
   "cell_type": "code",
   "execution_count": 57,
   "id": "9f92263f-31a2-4814-a973-13adf9515de0",
   "metadata": {},
   "outputs": [
    {
     "data": {
      "text/plain": [
       "array([[0.17476131, 0.21106639, 0.67755428],\n",
       "       [0.7287021 , 0.97988195, 0.09764048],\n",
       "       [0.28503593, 0.18804942, 0.0673535 ],\n",
       "       [0.29048887, 0.77947913, 0.40150485]])"
      ]
     },
     "execution_count": 57,
     "metadata": {},
     "output_type": "execute_result"
    }
   ],
   "source": [
    "var=np.random.rand(4,3)\n",
    "var"
   ]
  },
  {
   "cell_type": "code",
   "execution_count": 59,
   "id": "0cc58f43-ec5d-4031-ae0f-88b3c3808ebd",
   "metadata": {},
   "outputs": [
    {
     "data": {
      "text/plain": [
       "array([-1.79570438,  0.06516877, -0.45190968,  2.06930746])"
      ]
     },
     "execution_count": 59,
     "metadata": {},
     "output_type": "execute_result"
    }
   ],
   "source": [
    "#randn->close to 0, +ve and-ve\n",
    "var=np.random.randn(4)\n",
    "var"
   ]
  },
  {
   "cell_type": "code",
   "execution_count": 60,
   "id": "1c11a4f6-66b5-4bb7-a78c-6141e584794a",
   "metadata": {},
   "outputs": [
    {
     "data": {
      "text/plain": [
       "array([[ 0.6105337 , -0.50731193, -0.42439101],\n",
       "       [-0.69194825,  1.65118159, -0.05205514],\n",
       "       [-0.46829369, -0.97901122,  0.58772221],\n",
       "       [ 0.67600312, -0.93389754,  0.51652937]])"
      ]
     },
     "execution_count": 60,
     "metadata": {},
     "output_type": "execute_result"
    }
   ],
   "source": [
    "var=np.random.randn(4,3)\n",
    "var"
   ]
  },
  {
   "cell_type": "code",
   "execution_count": 62,
   "id": "a38ffaa2-5236-419b-b526-24ca5d46e688",
   "metadata": {},
   "outputs": [
    {
     "data": {
      "text/plain": [
       "array([0.59162689, 0.3463364 , 0.14998719, 0.87819421])"
      ]
     },
     "execution_count": 62,
     "metadata": {},
     "output_type": "execute_result"
    }
   ],
   "source": [
    "#ranf->specified shape from 0 to 1\n",
    "var=np.random.ranf(4)\n",
    "var"
   ]
  },
  {
   "cell_type": "code",
   "execution_count": 63,
   "id": "773f2a79-4c7e-4fc6-b195-370dab7ef2a5",
   "metadata": {},
   "outputs": [
    {
     "data": {
      "text/plain": [
       "array([[0.82422118, 0.79650743, 0.52912401, 0.53182742],\n",
       "       [0.11827861, 0.23203662, 0.1500639 , 0.4079674 ],\n",
       "       [0.16404356, 0.13937751, 0.24862239, 0.64436869],\n",
       "       [0.65300295, 0.50630939, 0.72547264, 0.97506061]])"
      ]
     },
     "execution_count": 63,
     "metadata": {},
     "output_type": "execute_result"
    }
   ],
   "source": [
    "var=np.random.ranf([4,4])\n",
    "var"
   ]
  },
  {
   "cell_type": "code",
   "execution_count": 67,
   "id": "39c66a6e-15a3-49ed-94d2-0898474b9365",
   "metadata": {},
   "outputs": [
    {
     "data": {
      "text/plain": [
       "array([14, 16,  9, 28,  3, 29, 17])"
      ]
     },
     "execution_count": 67,
     "metadata": {},
     "output_type": "execute_result"
    }
   ],
   "source": [
    "#randint\n",
    "var=np.random.randint(1,30,7)#(min=1,max=30,total_values=7)\n",
    "var"
   ]
  },
  {
   "cell_type": "markdown",
   "id": "9fa52871-2b52-47ea-83f7-ace416de49d3",
   "metadata": {},
   "source": [
    "***********datatype*************"
   ]
  },
  {
   "cell_type": "code",
   "execution_count": 68,
   "id": "a3b60f99-bf60-4625-8c15-b3ec233d6bf5",
   "metadata": {},
   "outputs": [
    {
     "name": "stdout",
     "output_type": "stream",
     "text": [
      "int32\n"
     ]
    }
   ],
   "source": [
    "ar2=np.array([[1,2,3,4,2,3,4,5]])\n",
    "print(ar2.dtype)"
   ]
  },
  {
   "cell_type": "code",
   "execution_count": 69,
   "id": "49fda0b8-ae31-4ee6-9c97-a7a57b5080da",
   "metadata": {},
   "outputs": [
    {
     "name": "stdout",
     "output_type": "stream",
     "text": [
      "float64\n"
     ]
    }
   ],
   "source": [
    "ar2=np.array([[1.0,2.7,3.7,4.6,2,3,4,5]])\n",
    "print(ar2.dtype)"
   ]
  },
  {
   "cell_type": "code",
   "execution_count": 70,
   "id": "ae0b6fee-af44-4382-bbbb-b985caf74df7",
   "metadata": {},
   "outputs": [
    {
     "name": "stdout",
     "output_type": "stream",
     "text": [
      "<U1\n"
     ]
    }
   ],
   "source": [
    "ar2=np.array([\"v\",\"a\",\"r\",\"s\",\"h\",\"a\"])\n",
    "print(ar2.dtype)"
   ]
  },
  {
   "cell_type": "code",
   "execution_count": 73,
   "id": "e1c3fd8f-843c-4b6b-a3b2-841f4cdb795a",
   "metadata": {},
   "outputs": [
    {
     "name": "stdout",
     "output_type": "stream",
     "text": [
      "float64\n"
     ]
    },
    {
     "data": {
      "text/plain": [
       "array([1., 2., 3., 4., 2., 3., 4., 5.])"
      ]
     },
     "execution_count": 73,
     "metadata": {},
     "output_type": "execute_result"
    }
   ],
   "source": [
    "ar2=np.array([1,2,3,4,2,3,4,5],dtype=np.float64)\n",
    "print(ar2.dtype)\n",
    "ar2"
   ]
  },
  {
   "cell_type": "code",
   "execution_count": 75,
   "id": "9600bc95-fa53-4a80-8b7a-724f261c11d8",
   "metadata": {},
   "outputs": [
    {
     "name": "stdout",
     "output_type": "stream",
     "text": [
      "float32\n"
     ]
    },
    {
     "data": {
      "text/plain": [
       "array([1., 2., 3., 4., 2., 3., 4., 5.], dtype=float32)"
      ]
     },
     "execution_count": 75,
     "metadata": {},
     "output_type": "execute_result"
    }
   ],
   "source": [
    "ar2=np.array([1,2,3,4,2,3,4,5],dtype=\"f\")\n",
    "print(ar2.dtype)\n",
    "ar2"
   ]
  },
  {
   "cell_type": "code",
   "execution_count": 76,
   "id": "9b929246-332b-458f-a971-edc995b3c94e",
   "metadata": {},
   "outputs": [
    {
     "name": "stdout",
     "output_type": "stream",
     "text": [
      "[[1 2 3 4 2 3 4 5]]\n",
      "int32\n",
      "[[1. 2. 3. 4. 2. 3. 4. 5.]]\n",
      "float32\n"
     ]
    }
   ],
   "source": [
    "ar2=np.array([[1,2,3,4,2,3,4,5]])\n",
    "new=np.float32(ar2)\n",
    "print(ar2)\n",
    "print(ar2.dtype)\n",
    "print(new)\n",
    "print(new.dtype)"
   ]
  },
  {
   "cell_type": "code",
   "execution_count": 80,
   "id": "3793cd1a-7353-4ee3-9ca4-db0bd0968956",
   "metadata": {},
   "outputs": [
    {
     "name": "stdout",
     "output_type": "stream",
     "text": [
      "[[1 2 3 4 2 3 4 5]]\n",
      "int32\n",
      "[[1. 2. 3. 4. 2. 3. 4. 5.]]\n",
      "float64\n"
     ]
    }
   ],
   "source": [
    "ar2=np.array([[1,2,3,4,2,3,4,5]])\n",
    "new=ar2.astype(float)\n",
    "print(ar2)\n",
    "print(ar2.dtype)\n",
    "print(new)\n",
    "print(new.dtype)"
   ]
  },
  {
   "cell_type": "markdown",
   "id": "486417e0-f7d5-48c9-bf6b-8d7b4e4d73b5",
   "metadata": {},
   "source": [
    "*****************Arithmetic operation******************"
   ]
  },
  {
   "cell_type": "code",
   "execution_count": 81,
   "id": "b0042878-7b61-456a-817d-6fcc33ea9ff5",
   "metadata": {},
   "outputs": [
    {
     "data": {
      "text/plain": [
       "array([9, 5, 8, 7])"
      ]
     },
     "execution_count": 81,
     "metadata": {},
     "output_type": "execute_result"
    }
   ],
   "source": [
    "ar2=np.array([1,2,3,4])\n",
    "var=np.array([6,2,5,4])\n",
    "varadd=var+3\n",
    "varadd"
   ]
  },
  {
   "cell_type": "code",
   "execution_count": 82,
   "id": "1ae7fb74-6d36-4e7c-84a9-7b6c134fac3c",
   "metadata": {},
   "outputs": [
    {
     "data": {
      "text/plain": [
       "array([7, 4, 8, 8])"
      ]
     },
     "execution_count": 82,
     "metadata": {},
     "output_type": "execute_result"
    }
   ],
   "source": [
    "ar2=np.array([1,2,3,4])\n",
    "var=np.array([6,2,5,4])\n",
    "varadd=var+ar2\n",
    "varadd"
   ]
  },
  {
   "cell_type": "code",
   "execution_count": 83,
   "id": "a877b260-70fa-49e5-86ae-daf892dcc63f",
   "metadata": {},
   "outputs": [
    {
     "data": {
      "text/plain": [
       "array([ 3, -1,  2,  1])"
      ]
     },
     "execution_count": 83,
     "metadata": {},
     "output_type": "execute_result"
    }
   ],
   "source": [
    "var=np.array([6,2,5,4])\n",
    "varsub=var-3\n",
    "varsub"
   ]
  },
  {
   "cell_type": "code",
   "execution_count": 84,
   "id": "0e5ffa9a-7cea-42c9-822c-95bad809c0cb",
   "metadata": {},
   "outputs": [
    {
     "data": {
      "text/plain": [
       "array([18,  6, 15, 12])"
      ]
     },
     "execution_count": 84,
     "metadata": {},
     "output_type": "execute_result"
    }
   ],
   "source": [
    "var=np.array([6,2,5,4])\n",
    "varmul=var*3\n",
    "varmul"
   ]
  },
  {
   "cell_type": "code",
   "execution_count": 85,
   "id": "2f75bb10-6336-4abd-ab09-b1d4c297656e",
   "metadata": {},
   "outputs": [
    {
     "data": {
      "text/plain": [
       "array([2.        , 0.66666667, 1.66666667, 1.33333333])"
      ]
     },
     "execution_count": 85,
     "metadata": {},
     "output_type": "execute_result"
    }
   ],
   "source": [
    "var=np.array([6,2,5,4])\n",
    "vard=var/3\n",
    "vard"
   ]
  },
  {
   "cell_type": "code",
   "execution_count": 86,
   "id": "53b01744-1d84-4f17-b3a4-ab0f4c138542",
   "metadata": {},
   "outputs": [
    {
     "data": {
      "text/plain": [
       "array([0, 2, 2, 1], dtype=int32)"
      ]
     },
     "execution_count": 86,
     "metadata": {},
     "output_type": "execute_result"
    }
   ],
   "source": [
    "var=np.array([6,2,5,4])\n",
    "varmod=var%3\n",
    "varmod"
   ]
  },
  {
   "cell_type": "code",
   "execution_count": 87,
   "id": "67e7dcf5-ce13-4028-b6a1-39e5c2f07776",
   "metadata": {},
   "outputs": [
    {
     "name": "stdout",
     "output_type": "stream",
     "text": [
      "[7 4 8 8]\n"
     ]
    }
   ],
   "source": [
    "ar2=np.array([1,2,3,4])\n",
    "var=np.array([6,2,5,4])\n",
    "print(np.add(ar2,var))"
   ]
  },
  {
   "cell_type": "code",
   "execution_count": 89,
   "id": "3aa9ab28-2a50-43a0-ba46-36b7aa32de94",
   "metadata": {},
   "outputs": [
    {
     "name": "stdout",
     "output_type": "stream",
     "text": [
      "[-5  0 -2  0]\n"
     ]
    }
   ],
   "source": [
    "ar2=np.array([1,2,3,4])\n",
    "var=np.array([6,2,5,4])\n",
    "print(np.subtract(ar2,var))"
   ]
  },
  {
   "cell_type": "code",
   "execution_count": 90,
   "id": "1e4b3df8-fe92-4879-af12-dd9eb011b6d5",
   "metadata": {},
   "outputs": [
    {
     "name": "stdout",
     "output_type": "stream",
     "text": [
      "[4 5 6 7]\n"
     ]
    }
   ],
   "source": [
    "ar2=np.array([1,2,3,4])\n",
    "var=np.array([6,2,5,4])\n",
    "print(np.add(ar2,3))"
   ]
  },
  {
   "cell_type": "code",
   "execution_count": 91,
   "id": "cea837b9-0b76-4c48-8337-e5b9ac7d245d",
   "metadata": {},
   "outputs": [
    {
     "name": "stdout",
     "output_type": "stream",
     "text": [
      "[ 6  4 15 16]\n"
     ]
    }
   ],
   "source": [
    "ar2=np.array([1,2,3,4])\n",
    "var=np.array([6,2,5,4])\n",
    "print(np.multiply(ar2,var))"
   ]
  },
  {
   "cell_type": "code",
   "execution_count": 92,
   "id": "6a329054-3a7c-474e-88f6-13d3ff190f08",
   "metadata": {},
   "outputs": [
    {
     "name": "stdout",
     "output_type": "stream",
     "text": [
      "[0.16666667 1.         0.6        1.        ]\n"
     ]
    }
   ],
   "source": [
    "ar2=np.array([1,2,3,4])\n",
    "var=np.array([6,2,5,4])\n",
    "print(np.divide(ar2,var))"
   ]
  },
  {
   "cell_type": "code",
   "execution_count": 93,
   "id": "54f1dfaf-a181-48be-8540-3b4248b09e8c",
   "metadata": {},
   "outputs": [
    {
     "name": "stdout",
     "output_type": "stream",
     "text": [
      "[1 0 3 0]\n"
     ]
    }
   ],
   "source": [
    "ar2=np.array([1,2,3,4])\n",
    "var=np.array([6,2,5,4])\n",
    "print(np.mod(ar2,var))"
   ]
  },
  {
   "cell_type": "code",
   "execution_count": 94,
   "id": "d0bb4c50-bf3d-4fca-918e-8455f1d2da9c",
   "metadata": {},
   "outputs": [
    {
     "name": "stdout",
     "output_type": "stream",
     "text": [
      "[  1   4 243 256]\n"
     ]
    }
   ],
   "source": [
    "ar2=np.array([1,2,3,4])\n",
    "var=np.array([6,2,5,4])\n",
    "print(np.power(ar2,var))"
   ]
  },
  {
   "cell_type": "code",
   "execution_count": 95,
   "id": "975e40cd-6fec-4347-a4b3-5e9e70456626",
   "metadata": {},
   "outputs": [
    {
     "name": "stdout",
     "output_type": "stream",
     "text": [
      "[1 0 0 0]\n"
     ]
    }
   ],
   "source": [
    "ar2=np.array([1,2,3,4])\n",
    "var=np.array([6,2,5,4])\n",
    "print(np.reciprocal(ar2,var))"
   ]
  },
  {
   "cell_type": "code",
   "execution_count": 96,
   "id": "73b3167a-ae6f-47c4-b764-6605e7735aff",
   "metadata": {},
   "outputs": [
    {
     "name": "stdout",
     "output_type": "stream",
     "text": [
      "[1 0 0 0]\n"
     ]
    }
   ],
   "source": [
    "ar2=np.array([1,2,3,4])\n",
    "var=np.array([6,2,5,4])\n",
    "print(np.reciprocal(ar2))"
   ]
  },
  {
   "cell_type": "code",
   "execution_count": 98,
   "id": "89ccaf54-f356-4e16-b415-29e36cc2fab7",
   "metadata": {},
   "outputs": [
    {
     "name": "stdout",
     "output_type": "stream",
     "text": [
      "[[ 6  7  8  9]\n",
      " [10 12 13 14]]\n"
     ]
    }
   ],
   "source": [
    "#2d array\n",
    "ar2=np.array([[1,2,3,4],[5,7,8,9]])\n",
    "var=np.array([6,2,5,4])\n",
    "print(np.add(ar2,5))"
   ]
  },
  {
   "cell_type": "code",
   "execution_count": 102,
   "id": "e52b35ea-fb5b-443a-852d-b92db5ed9e4e",
   "metadata": {},
   "outputs": [
    {
     "name": "stdout",
     "output_type": "stream",
     "text": [
      "[[ 6  4 15 16]\n",
      " [ 5 14 24 36]]\n"
     ]
    }
   ],
   "source": [
    "ar2=np.array([[1,2,3,4],[5,7,8,9]])\n",
    "var=np.array([[6,2,5,4],[1,2,3,4]])\n",
    "print(np.multiply(ar2,var))"
   ]
  },
  {
   "cell_type": "code",
   "execution_count": 103,
   "id": "beefca21-7504-41b9-a0aa-a29211b60810",
   "metadata": {},
   "outputs": [
    {
     "name": "stdout",
     "output_type": "stream",
     "text": [
      "2\n"
     ]
    }
   ],
   "source": [
    "var=np.array([6,2,5,4])\n",
    "print(np.min(var))"
   ]
  },
  {
   "cell_type": "code",
   "execution_count": 104,
   "id": "e9ca08f8-4459-4628-8674-770cdb0ddc0d",
   "metadata": {},
   "outputs": [
    {
     "name": "stdout",
     "output_type": "stream",
     "text": [
      "6\n"
     ]
    }
   ],
   "source": [
    "var=np.array([6,2,5,4])\n",
    "print(np.max(var))"
   ]
  },
  {
   "cell_type": "code",
   "execution_count": 113,
   "id": "4919c58a-6734-4b8e-a50b-b364f1270b74",
   "metadata": {},
   "outputs": [
    {
     "name": "stdout",
     "output_type": "stream",
     "text": [
      "position of min 1\n",
      "position of max 0\n",
      "sqrt [2.44948974 1.41421356 2.23606798 2.        ]\n"
     ]
    }
   ],
   "source": [
    "var=np.array([6,2,5,4])\n",
    "print(\"position of min\",np.argmin(var))#position\n",
    "print(\"position of max\",np.argmax(var))\n",
    "print(\"sqrt\",np.sqrt(var))"
   ]
  },
  {
   "cell_type": "code",
   "execution_count": 109,
   "id": "489ad4a4-8da8-47e9-bdd2-9bdcb7f092c1",
   "metadata": {},
   "outputs": [
    {
     "name": "stdout",
     "output_type": "stream",
     "text": [
      "1\n"
     ]
    }
   ],
   "source": [
    "var=np.array([[6,2,5,4],[1,2,3,4]])\n",
    "print(np.min(var))\n"
   ]
  },
  {
   "cell_type": "code",
   "execution_count": 111,
   "id": "caabe421-c4dd-4dd6-bec2-e9da6ff85bb7",
   "metadata": {},
   "outputs": [
    {
     "name": "stdout",
     "output_type": "stream",
     "text": [
      "[1 2 3 4]\n"
     ]
    }
   ],
   "source": [
    "var=np.array([[6,2,5,4],[1,2,3,4]])\n",
    "print(np.min(var,axis=0))\n",
    "\n"
   ]
  },
  {
   "cell_type": "code",
   "execution_count": 112,
   "id": "18c03353-6111-4c28-8fff-f254c93ddf38",
   "metadata": {},
   "outputs": [
    {
     "name": "stdout",
     "output_type": "stream",
     "text": [
      "[2 1]\n"
     ]
    }
   ],
   "source": [
    "var=np.array([[6,2,5,4],[1,2,3,4]])\n",
    "print(np.min(var,axis=1))"
   ]
  },
  {
   "cell_type": "code",
   "execution_count": 119,
   "id": "89eaa165-878e-42b7-9e07-c651a271a758",
   "metadata": {},
   "outputs": [
    {
     "name": "stdout",
     "output_type": "stream",
     "text": [
      "sin [-0.2794155   0.90929743 -0.95892427 -0.7568025 ]\n",
      "cos [ 0.96017029 -0.41614684  0.28366219 -0.65364362]\n"
     ]
    }
   ],
   "source": [
    "var=np.array([6,2,5,4])\n",
    "print(\"sin\",np.sin(var))\n",
    "print(\"cos\",np.cos(var))\n"
   ]
  },
  {
   "cell_type": "code",
   "execution_count": 121,
   "id": "95855916-39aa-46f4-b409-2531b879de52",
   "metadata": {},
   "outputs": [
    {
     "name": "stdout",
     "output_type": "stream",
     "text": [
      "[ 6  8 13 17]\n"
     ]
    }
   ],
   "source": [
    "#cumsum\n",
    "var=np.array([6,2,5,4])\n",
    "print(np.cumsum(var))"
   ]
  },
  {
   "cell_type": "markdown",
   "id": "1e39654c-4bb5-43b6-b211-19d68524bf43",
   "metadata": {},
   "source": [
    "***************shapeand reshape**************"
   ]
  },
  {
   "cell_type": "code",
   "execution_count": 2,
   "id": "9b9ac202-f91d-405b-8e87-346af90cc3c3",
   "metadata": {},
   "outputs": [
    {
     "name": "stdout",
     "output_type": "stream",
     "text": [
      "[[1 2]\n",
      " [1 2]]\n"
     ]
    }
   ],
   "source": [
    "#shape\n",
    "var=np.array([[1,2],[1,2]])\n",
    "print(var)"
   ]
  },
  {
   "cell_type": "code",
   "execution_count": 3,
   "id": "621f675f-b4f0-4ded-be12-7291bfe2d488",
   "metadata": {},
   "outputs": [
    {
     "data": {
      "text/plain": [
       "(2, 2)"
      ]
     },
     "execution_count": 3,
     "metadata": {},
     "output_type": "execute_result"
    }
   ],
   "source": [
    "var.shape\n"
   ]
  },
  {
   "cell_type": "code",
   "execution_count": 4,
   "id": "ced72e27-2c44-42af-b20c-df6dddd95e51",
   "metadata": {},
   "outputs": [
    {
     "data": {
      "text/plain": [
       "(2, 3)"
      ]
     },
     "execution_count": 4,
     "metadata": {},
     "output_type": "execute_result"
    }
   ],
   "source": [
    "var=np.array([[1,2,5],[1,2,8]])\n",
    "var.shape\n"
   ]
  },
  {
   "cell_type": "code",
   "execution_count": 8,
   "id": "88c0cd54-a834-443c-b5e6-2b090b34ee5b",
   "metadata": {},
   "outputs": [
    {
     "data": {
      "text/plain": [
       "array([[[[1, 2, 3, 4]]]])"
      ]
     },
     "execution_count": 8,
     "metadata": {},
     "output_type": "execute_result"
    }
   ],
   "source": [
    "var1=np.array([1,2,3,4],ndmin=4)\n",
    "var1"
   ]
  },
  {
   "cell_type": "code",
   "execution_count": 9,
   "id": "de0e88d0-98f2-41c3-9ede-704f731d67a1",
   "metadata": {},
   "outputs": [
    {
     "data": {
      "text/plain": [
       "(1, 1, 1, 4)"
      ]
     },
     "execution_count": 9,
     "metadata": {},
     "output_type": "execute_result"
    }
   ],
   "source": [
    "var1.shape #how many square braces are there are first represented"
   ]
  },
  {
   "cell_type": "code",
   "execution_count": 14,
   "id": "ab8c01b8-1867-4c2b-a1ec-4127e52fef57",
   "metadata": {},
   "outputs": [
    {
     "name": "stdout",
     "output_type": "stream",
     "text": [
      "1\n",
      "2\n"
     ]
    },
    {
     "data": {
      "text/plain": [
       "array([[1, 2],\n",
       "       [3, 4],\n",
       "       [5, 6]])"
      ]
     },
     "execution_count": 14,
     "metadata": {},
     "output_type": "execute_result"
    }
   ],
   "source": [
    "#reshape\n",
    "var1=np.array([1,2,3,4,5,6])\n",
    "print(var1.ndim)\n",
    "x=var1.reshape(3,2)\n",
    "print(x.ndim)\n",
    "x"
   ]
  },
  {
   "cell_type": "code",
   "execution_count": 17,
   "id": "d51d1773-f567-42a1-8472-9f4f95d7724e",
   "metadata": {},
   "outputs": [
    {
     "name": "stdout",
     "output_type": "stream",
     "text": [
      "1\n",
      "3\n"
     ]
    },
    {
     "data": {
      "text/plain": [
       "array([[[ 1,  2],\n",
       "        [ 3,  4],\n",
       "        [ 5,  6]],\n",
       "\n",
       "       [[ 7,  8],\n",
       "        [ 9, 10],\n",
       "        [11, 12]]])"
      ]
     },
     "execution_count": 17,
     "metadata": {},
     "output_type": "execute_result"
    }
   ],
   "source": [
    "#1 dimension to 3 dimension\n",
    "var1=np.array([1,2,3,4,5,6,7,8,9,10,11,12])\n",
    "print(var1.ndim)\n",
    "x=var1.reshape(2,3,2)\n",
    "print(x.ndim)\n",
    "x"
   ]
  },
  {
   "cell_type": "code",
   "execution_count": 18,
   "id": "bb37284a-d39e-44fa-b5b4-e335cb43280a",
   "metadata": {},
   "outputs": [
    {
     "data": {
      "text/plain": [
       "array([ 1,  2,  3,  4,  5,  6,  7,  8,  9, 10, 11, 12])"
      ]
     },
     "execution_count": 18,
     "metadata": {},
     "output_type": "execute_result"
    }
   ],
   "source": [
    "#3 dim to 1 dim\n",
    "one=x.reshape(-1)\n",
    "one\n",
    "print(one.ndim)"
   ]
  },
  {
   "cell_type": "markdown",
   "id": "f023a5cd-d38d-4bce-b946-ddb058a99cdd",
   "metadata": {},
   "source": [
    "*******************************broadcasting*******************************"
   ]
  },
  {
   "cell_type": "code",
   "execution_count": 20,
   "id": "754f602e-1fa1-4e2e-8f4e-4ea7c89a269c",
   "metadata": {},
   "outputs": [
    {
     "data": {
      "text/plain": [
       "array([ 8, 10, 12, 14, 16, 18])"
      ]
     },
     "execution_count": 20,
     "metadata": {},
     "output_type": "execute_result"
    }
   ],
   "source": [
    "var=np.array([ 1,  2,  3,  4,  5,  6])\n",
    "var1=np.array([7,  8,  9, 10, 11, 12])\n",
    "var+var1\n"
   ]
  },
  {
   "cell_type": "code",
   "execution_count": 23,
   "id": "4a0747ad-1024-48de-8f67-48985875fbe9",
   "metadata": {},
   "outputs": [
    {
     "data": {
      "text/plain": [
       "array([[ 8,  9, 10],\n",
       "       [ 9, 10, 11],\n",
       "       [10, 11, 12]])"
      ]
     },
     "execution_count": 23,
     "metadata": {},
     "output_type": "execute_result"
    }
   ],
   "source": [
    "var=np.array([ 1,  2,  3])\n",
    "var1=np.array([[7], [ 8], [ 9]])\n",
    "var+var1"
   ]
  },
  {
   "cell_type": "code",
   "execution_count": 28,
   "id": "168840ea-48b0-4757-9d8b-68f2aadd8467",
   "metadata": {},
   "outputs": [
    {
     "data": {
      "text/plain": [
       "array([[ 8,  6,  7],\n",
       "       [10,  9,  8]])"
      ]
     },
     "execution_count": 28,
     "metadata": {},
     "output_type": "execute_result"
    }
   ],
   "source": [
    "var=np.array([[ 1], [ 2]])\n",
    "var1=np.array([[7,5,6], [ 8,7,6]])\n",
    "var+var1\n"
   ]
  },
  {
   "cell_type": "code",
   "execution_count": 29,
   "id": "53d559ee-214b-4535-9908-f32af4547ecb",
   "metadata": {},
   "outputs": [
    {
     "name": "stdout",
     "output_type": "stream",
     "text": [
      "2\n"
     ]
    }
   ],
   "source": [
    "print((var+var1).ndim)"
   ]
  },
  {
   "cell_type": "code",
   "execution_count": null,
   "id": "6e66af60-33e8-4085-8608-d67b7fc154d9",
   "metadata": {},
   "outputs": [],
   "source": [
    "************************Indexing and Slicing in  numpy***********************"
   ]
  },
  {
   "cell_type": "code",
   "execution_count": 30,
   "id": "759e27c9-4dea-4306-bed5-5f3dc26e90bc",
   "metadata": {},
   "outputs": [
    {
     "data": {
      "text/plain": [
       "2"
      ]
     },
     "execution_count": 30,
     "metadata": {},
     "output_type": "execute_result"
    }
   ],
   "source": [
    "#indexing\n",
    "var=np.array([ 1,  2,  3])\n",
    "                #0  1   2\n",
    "                 #-3 -2 -1\n",
    "var[1]"
   ]
  },
  {
   "cell_type": "code",
   "execution_count": 31,
   "id": "e36867b6-d260-43fd-b9c3-fef1ff32e946",
   "metadata": {},
   "outputs": [
    {
     "data": {
      "text/plain": [
       "1"
      ]
     },
     "execution_count": 31,
     "metadata": {},
     "output_type": "execute_result"
    }
   ],
   "source": [
    "var[-3]"
   ]
  },
  {
   "cell_type": "code",
   "execution_count": 35,
   "id": "53a05abd-cfcb-4bfa-b81e-e819c77b8539",
   "metadata": {},
   "outputs": [
    {
     "name": "stdout",
     "output_type": "stream",
     "text": [
      "5\n"
     ]
    },
    {
     "data": {
      "text/plain": [
       "5"
      ]
     },
     "execution_count": 35,
     "metadata": {},
     "output_type": "execute_result"
    }
   ],
   "source": [
    "var=np.array([[1,2,5],[1,2,8]])\n",
    "print(var[0,2])\n",
    "var[0][2]"
   ]
  },
  {
   "cell_type": "code",
   "execution_count": 36,
   "id": "9d2d0e88-1d37-4d64-a942-b6e8e52a3c95",
   "metadata": {},
   "outputs": [
    {
     "data": {
      "text/plain": [
       "3"
      ]
     },
     "execution_count": 36,
     "metadata": {},
     "output_type": "execute_result"
    }
   ],
   "source": [
    "var=np.array([[[1,2,5],[1,2,8]]])\n",
    "var.ndim"
   ]
  },
  {
   "cell_type": "code",
   "execution_count": 37,
   "id": "55ee367b-f715-4817-8ee4-e6bb1d18b317",
   "metadata": {},
   "outputs": [
    {
     "data": {
      "text/plain": [
       "8"
      ]
     },
     "execution_count": 37,
     "metadata": {},
     "output_type": "execute_result"
    }
   ],
   "source": [
    "var[0][1][2]"
   ]
  },
  {
   "cell_type": "code",
   "execution_count": 38,
   "id": "d1575f72-5805-438a-bcf2-7872f6710862",
   "metadata": {},
   "outputs": [
    {
     "data": {
      "text/plain": [
       "8"
      ]
     },
     "execution_count": 38,
     "metadata": {},
     "output_type": "execute_result"
    }
   ],
   "source": [
    "var[0,1,2]"
   ]
  },
  {
   "cell_type": "code",
   "execution_count": 41,
   "id": "32e5e5f9-1683-4ab0-9b5e-0f3402c9409c",
   "metadata": {},
   "outputs": [
    {
     "name": "stdout",
     "output_type": "stream",
     "text": [
      "[1 2 8]\n"
     ]
    },
    {
     "data": {
      "text/plain": [
       "array([[1, 2, 5],\n",
       "       [1, 2, 8]])"
      ]
     },
     "execution_count": 41,
     "metadata": {},
     "output_type": "execute_result"
    }
   ],
   "source": [
    "print(var[0,1])\n",
    "var[0]"
   ]
  },
  {
   "cell_type": "code",
   "execution_count": 45,
   "id": "c0fbb159-ca04-45e7-9d73-1a99e83483b0",
   "metadata": {},
   "outputs": [
    {
     "data": {
      "text/plain": [
       "array([2, 3, 4, 5])"
      ]
     },
     "execution_count": 45,
     "metadata": {},
     "output_type": "execute_result"
    }
   ],
   "source": [
    "#slicing\n",
    "var=np.array([ 1,  2,  3,  4,  5,  6])\n",
    "var[1:5:1]#start at index 1 and stop at index 4 and only one character at a time"
   ]
  },
  {
   "cell_type": "code",
   "execution_count": 47,
   "id": "c967e9ec-3e5c-44ec-8932-caa8ffc7c2d6",
   "metadata": {},
   "outputs": [
    {
     "data": {
      "text/plain": [
       "array([2, 3, 4, 5, 6])"
      ]
     },
     "execution_count": 47,
     "metadata": {},
     "output_type": "execute_result"
    }
   ],
   "source": [
    "var[1:]#start at index 1 and stop at indexend and only one character at a time"
   ]
  },
  {
   "cell_type": "code",
   "execution_count": 49,
   "id": "206c1c12-248c-409b-86d8-a71a5953b379",
   "metadata": {},
   "outputs": [
    {
     "data": {
      "text/plain": [
       "array([1, 2, 3, 4, 5])"
      ]
     },
     "execution_count": 49,
     "metadata": {},
     "output_type": "execute_result"
    }
   ],
   "source": [
    "var[:5]#start at index 0 and stop at index 5 and only one character at a time"
   ]
  },
  {
   "cell_type": "code",
   "execution_count": 50,
   "id": "2cd0264c-2e71-4727-82e8-c4cbdd66d8e8",
   "metadata": {},
   "outputs": [
    {
     "data": {
      "text/plain": [
       "array([1, 2, 3, 4, 5, 6])"
      ]
     },
     "execution_count": 50,
     "metadata": {},
     "output_type": "execute_result"
    }
   ],
   "source": [
    "   var[::]#start at index 0 and stop at index end and only one character at a time"
   ]
  },
  {
   "cell_type": "code",
   "execution_count": 51,
   "id": "bc09fc1d-74a6-4550-a05e-45a3385a107c",
   "metadata": {},
   "outputs": [
    {
     "data": {
      "text/plain": [
       "array([2, 4])"
      ]
     },
     "execution_count": 51,
     "metadata": {},
     "output_type": "execute_result"
    }
   ],
   "source": [
    "var[1:5:2]#start at index 1 and stop at index 4 and only 2 character at a time"
   ]
  },
  {
   "cell_type": "code",
   "execution_count": 52,
   "id": "bf04862d-1ce8-423a-b5ba-f2b0fd476316",
   "metadata": {},
   "outputs": [
    {
     "data": {
      "text/plain": [
       "array([2, 8])"
      ]
     },
     "execution_count": 52,
     "metadata": {},
     "output_type": "execute_result"
    }
   ],
   "source": [
    "var=np.array([[1,2,5],[1,2,8]])\n",
    "var[1,1:]"
   ]
  },
  {
   "cell_type": "code",
   "execution_count": 53,
   "id": "daf51bed-8ab6-4b13-943e-208f47b13175",
   "metadata": {},
   "outputs": [
    {
     "data": {
      "text/plain": [
       "array([[1, 2, 8]])"
      ]
     },
     "execution_count": 53,
     "metadata": {},
     "output_type": "execute_result"
    }
   ],
   "source": [
    "var[1:]"
   ]
  },
  {
   "cell_type": "markdown",
   "id": "d7d4aa65-8cc6-46aa-a639-46804e7f9847",
   "metadata": {},
   "source": [
    "*************************iterating numpy array*************************"
   ]
  },
  {
   "cell_type": "code",
   "execution_count": 55,
   "id": "7c048e47-c994-46ac-99e9-3d9e97affa40",
   "metadata": {},
   "outputs": [
    {
     "name": "stdout",
     "output_type": "stream",
     "text": [
      "1\n",
      "2\n",
      "3\n",
      "4\n",
      "5\n",
      "6\n"
     ]
    }
   ],
   "source": [
    "var=np.array([ 1,  2,  3,  4,  5,  6])\n",
    "for i in var:\n",
    "   print( i)\n",
    "   "
   ]
  },
  {
   "cell_type": "code",
   "execution_count": 56,
   "id": "76171f03-cb72-4320-a37f-c33bb355af66",
   "metadata": {},
   "outputs": [
    {
     "name": "stdout",
     "output_type": "stream",
     "text": [
      "[1 2 5]\n",
      "[1 2 8]\n"
     ]
    }
   ],
   "source": [
    "var=np.array([[1,2,5],[1,2,8]])\n",
    "for i in var:\n",
    "   print( i)"
   ]
  },
  {
   "cell_type": "code",
   "execution_count": 58,
   "id": "1820eb47-ef5e-45e7-aa6d-83f2beb13336",
   "metadata": {},
   "outputs": [
    {
     "name": "stdout",
     "output_type": "stream",
     "text": [
      "[1 2 5]\n",
      "[1 2 8]\n",
      "[1 2 5]\n",
      "[1 2 8]\n"
     ]
    }
   ],
   "source": [
    "for i in var:\n",
    "    for j in var:\n",
    "        print( j)\n",
    "        \n",
    "   "
   ]
  },
  {
   "cell_type": "code",
   "execution_count": 59,
   "id": "ae44df67-2dfa-4905-9a29-0607ee8a612d",
   "metadata": {},
   "outputs": [
    {
     "name": "stdout",
     "output_type": "stream",
     "text": [
      "1\n",
      "2\n",
      "5\n",
      "1\n",
      "2\n",
      "8\n"
     ]
    }
   ],
   "source": [
    "for i in var:\n",
    "    for j in i:\n",
    "        print( j)"
   ]
  },
  {
   "cell_type": "code",
   "execution_count": 60,
   "id": "97d3ae83-866a-414a-92c5-2a0f02efe1f0",
   "metadata": {},
   "outputs": [
    {
     "name": "stdout",
     "output_type": "stream",
     "text": [
      "1\n",
      "2\n",
      "5\n",
      "1\n",
      "2\n",
      "8\n"
     ]
    }
   ],
   "source": [
    "var=np.array([[[1,2,5],[1,2,8]]])\n",
    "for i in var:\n",
    "    for j in i:\n",
    "        for n in j:\n",
    "             print( n)\n",
    "            \n",
    "       "
   ]
  },
  {
   "cell_type": "code",
   "execution_count": 61,
   "id": "73d1f9ae-891c-4e11-a621-da7a3f0eb555",
   "metadata": {},
   "outputs": [
    {
     "name": "stdout",
     "output_type": "stream",
     "text": [
      "1\n",
      "2\n",
      "5\n",
      "1\n",
      "2\n",
      "8\n"
     ]
    }
   ],
   "source": [
    "for i in np.nditer(var):#without using more for loops\n",
    "    print(i)"
   ]
  },
  {
   "cell_type": "code",
   "execution_count": 67,
   "id": "a1c3097a-ca6f-4f7e-a87a-02d9fa9d8f28",
   "metadata": {},
   "outputs": [
    {
     "name": "stdout",
     "output_type": "stream",
     "text": [
      "b'1'\n",
      "b'2'\n",
      "b'5'\n",
      "b'1'\n",
      "b'2'\n",
      "b'8'\n"
     ]
    }
   ],
   "source": [
    "for i in np.nditer(var,flags=[\"buffered\"],op_dtypes=['S']):#conversion of datatype\n",
    "    print(i)"
   ]
  },
  {
   "cell_type": "code",
   "execution_count": 68,
   "id": "1fe23383-c0f8-414f-b3c4-c8baa9ea0513",
   "metadata": {},
   "outputs": [
    {
     "name": "stdout",
     "output_type": "stream",
     "text": [
      "(0, 0, 0) 1\n",
      "(0, 0, 1) 2\n",
      "(0, 0, 2) 5\n",
      "(0, 1, 0) 1\n",
      "(0, 1, 1) 2\n",
      "(0, 1, 2) 8\n"
     ]
    }
   ],
   "source": [
    "for i,e in np.ndenumerate(var):#conversion of datatype\n",
    "    print(i,e)"
   ]
  },
  {
   "cell_type": "markdown",
   "id": "298d74bb-7465-4b53-a409-5ff2bdfe3ca3",
   "metadata": {},
   "source": [
    "************************Copy and view****************"
   ]
  },
  {
   "cell_type": "code",
   "execution_count": 69,
   "id": "91de415e-049d-41b6-ba56-552b74d6e945",
   "metadata": {},
   "outputs": [
    {
     "data": {
      "text/plain": [
       "array([1, 2, 3, 4, 5, 6])"
      ]
     },
     "execution_count": 69,
     "metadata": {},
     "output_type": "execute_result"
    }
   ],
   "source": [
    "var=np.array([ 1,  2,  3,  4,  5,  6])\n",
    "co=var.copy()#used to copy own data a new locatio is used\n",
    "co"
   ]
  },
  {
   "cell_type": "code",
   "execution_count": 71,
   "id": "701aa810-7155-4549-b21c-7b899da4d427",
   "metadata": {},
   "outputs": [
    {
     "data": {
      "text/plain": [
       "array([1, 2, 3, 4, 5, 6])"
      ]
     },
     "execution_count": 71,
     "metadata": {},
     "output_type": "execute_result"
    }
   ],
   "source": [
    "x=np.array([ 1,  2,  3,  4,  5,  6])\n",
    "vi=x.view()#does nt own data any change affect array\n",
    "vi"
   ]
  },
  {
   "cell_type": "code",
   "execution_count": 73,
   "id": "03619d61-cd5a-4ec4-aeda-37f9c1e27e5c",
   "metadata": {},
   "outputs": [
    {
     "data": {
      "text/plain": [
       "array([ 1, 24,  3,  4,  5,  6])"
      ]
     },
     "execution_count": 73,
     "metadata": {},
     "output_type": "execute_result"
    }
   ],
   "source": [
    "var=np.array([ 1,  2,  3,  4,  5,  6])\n",
    "var[1]=24\n",
    "co=var.copy()#used to copy own data a new locatio is used\n",
    "co"
   ]
  },
  {
   "cell_type": "code",
   "execution_count": 74,
   "id": "304f1887-856b-4043-b814-1d5947e64107",
   "metadata": {},
   "outputs": [
    {
     "data": {
      "text/plain": [
       "array([ 1, 34,  3,  4,  5,  6])"
      ]
     },
     "execution_count": 74,
     "metadata": {},
     "output_type": "execute_result"
    }
   ],
   "source": [
    "x=np.array([ 1,  2,  3,  4,  5,  6])\n",
    "x[1]=34\n",
    "vi=x.view()#does nt own data any change affect array\n",
    "vi"
   ]
  },
  {
   "cell_type": "markdown",
   "id": "25a21a0e-3f5d-4e95-86a8-9424a489bf95",
   "metadata": {},
   "source": [
    "******************************join and split*********************"
   ]
  },
  {
   "cell_type": "code",
   "execution_count": 76,
   "id": "99160817-458c-4e61-8e0c-3a0ea677b981",
   "metadata": {},
   "outputs": [
    {
     "data": {
      "text/plain": [
       "array([1, 2, 3, 4, 5, 6, 1, 2, 7, 8, 5, 6])"
      ]
     },
     "execution_count": 76,
     "metadata": {},
     "output_type": "execute_result"
    }
   ],
   "source": [
    "var=np.array([ 1,  2,  3,  4,  5,  6])\n",
    "x=np.array([ 1,  2, 7,8, 5,  6])\n",
    "ar=np.concatenate((var,x))\n",
    "ar"
   ]
  },
  {
   "cell_type": "code",
   "execution_count": 78,
   "id": "13c1a170-8522-4056-b194-650bb9f4cc89",
   "metadata": {},
   "outputs": [
    {
     "data": {
      "text/plain": [
       "array([[1, 2, 5],\n",
       "       [1, 2, 8],\n",
       "       [1, 2, 4],\n",
       "       [3, 5, 8]])"
      ]
     },
     "execution_count": 78,
     "metadata": {},
     "output_type": "execute_result"
    }
   ],
   "source": [
    "var=np.array([[1,2,5],[1,2,8]])\n",
    "var1=np.array([[1,2,4],[3,5,8]])\n",
    "ar=np.concatenate((var,var1))\n",
    "ar"
   ]
  },
  {
   "cell_type": "code",
   "execution_count": 79,
   "id": "f69c1188-9f37-4a6f-bf23-2eac4486417d",
   "metadata": {},
   "outputs": [
    {
     "data": {
      "text/plain": [
       "array([[1, 2, 4],\n",
       "       [3, 5, 8],\n",
       "       [1, 2, 5],\n",
       "       [1, 2, 8]])"
      ]
     },
     "execution_count": 79,
     "metadata": {},
     "output_type": "execute_result"
    }
   ],
   "source": [
    "ar=np.concatenate((var1,var))\n",
    "ar"
   ]
  },
  {
   "cell_type": "code",
   "execution_count": 81,
   "id": "84203ff7-1adc-4415-a0e0-4175b0ffb9fb",
   "metadata": {},
   "outputs": [
    {
     "name": "stdout",
     "output_type": "stream",
     "text": [
      "row [[1 2 5]\n",
      " [1 2 8]\n",
      " [1 2 4]\n",
      " [3 5 8]]\n",
      "col [[1 2 5 1 2 4]\n",
      " [1 2 8 3 5 8]]\n"
     ]
    }
   ],
   "source": [
    "var=np.array([[1,2,5],[1,2,8]])\n",
    "var1=np.array([[1,2,4],[3,5,8]])\n",
    "\n",
    "ar=np.concatenate((var,var1),axis=0)\n",
    "print(\"row\",ar)\n",
    "vvar=np.concatenate((var,var1),axis=1)\n",
    "print(\"col\",vvar)"
   ]
  },
  {
   "cell_type": "code",
   "execution_count": 82,
   "id": "7b2284e0-7f2d-41ac-b8ac-61cf0f0d82a0",
   "metadata": {},
   "outputs": [
    {
     "data": {
      "text/plain": [
       "array([[[1, 2, 5],\n",
       "        [1, 2, 8]],\n",
       "\n",
       "       [[1, 2, 4],\n",
       "        [3, 5, 8]]])"
      ]
     },
     "execution_count": 82,
     "metadata": {},
     "output_type": "execute_result"
    }
   ],
   "source": [
    "var=np.array([[1,2,5],[1,2,8]])\n",
    "var1=np.array([[1,2,4],[3,5,8]])\n",
    "ar=np.stack((var,var1))\n",
    "ar"
   ]
  },
  {
   "cell_type": "code",
   "execution_count": 85,
   "id": "937212ac-7ba9-4515-ab1e-6909d7bbd6da",
   "metadata": {},
   "outputs": [
    {
     "name": "stdout",
     "output_type": "stream",
     "text": [
      "row [[1 2 3 4 5 6]\n",
      " [1 2 7 8 5 6]]\n",
      "col [[1 1]\n",
      " [2 2]\n",
      " [3 7]\n",
      " [4 8]\n",
      " [5 5]\n",
      " [6 6]]\n"
     ]
    }
   ],
   "source": [
    "var=np.array([ 1,  2,  3,  4,  5,  6])\n",
    "var1=np.array([ 1,  2, 7,8, 5,  6])\n",
    "\n",
    "ar=np.stack((var,var1),axis=0)\n",
    "print(\"row\",ar)\n",
    "ar=np.stack((var,var1),axis=1)\n",
    "print(\"col\",ar)"
   ]
  },
  {
   "cell_type": "code",
   "execution_count": 88,
   "id": "89fd8b2d-27d9-416f-b53f-44b8d1448fcf",
   "metadata": {},
   "outputs": [
    {
     "data": {
      "text/plain": [
       "array([[1, 2, 3, 4, 5, 6],\n",
       "       [1, 2, 7, 8, 5, 6]])"
      ]
     },
     "execution_count": 88,
     "metadata": {},
     "output_type": "execute_result"
    }
   ],
   "source": [
    "var=np.array([ 1,  2,  3,  4,  5,  6])\n",
    "var1=np.array([ 1,  2, 7,8, 5,  6])\n",
    "\n",
    "ar=np.vstack((var,var1))\n",
    "ar"
   ]
  },
  {
   "cell_type": "code",
   "execution_count": 89,
   "id": "881847e4-2b7d-4d1a-917b-e60b684fc36f",
   "metadata": {},
   "outputs": [
    {
     "data": {
      "text/plain": [
       "array([1, 2, 3, 4, 5, 6, 1, 2, 7, 8, 5, 6])"
      ]
     },
     "execution_count": 89,
     "metadata": {},
     "output_type": "execute_result"
    }
   ],
   "source": [
    "ar=np.hstack((var,var1))\n",
    "ar"
   ]
  },
  {
   "cell_type": "code",
   "execution_count": 90,
   "id": "78e51463-e27b-4c3d-a9d2-3d3184bc0f31",
   "metadata": {},
   "outputs": [
    {
     "data": {
      "text/plain": [
       "array([[[1, 1],\n",
       "        [2, 2],\n",
       "        [3, 7],\n",
       "        [4, 8],\n",
       "        [5, 5],\n",
       "        [6, 6]]])"
      ]
     },
     "execution_count": 90,
     "metadata": {},
     "output_type": "execute_result"
    }
   ],
   "source": [
    "ar=np.dstack((var,var1))\n",
    "ar"
   ]
  },
  {
   "cell_type": "code",
   "execution_count": 91,
   "id": "e2895b49-a0a2-4354-94a5-ba109e0ad7df",
   "metadata": {},
   "outputs": [
    {
     "data": {
      "text/plain": [
       "[array([1, 2]), array([3, 4]), array([5, 6])]"
      ]
     },
     "execution_count": 91,
     "metadata": {},
     "output_type": "execute_result"
    }
   ],
   "source": [
    "#split\n",
    "var=np.array([ 1,  2,  3,  4,  5,  6])\n",
    "ar=np.array_split(var,3)\n",
    "ar"
   ]
  },
  {
   "cell_type": "code",
   "execution_count": 92,
   "id": "cdb4e553-8e11-42b7-938c-365c764bf49e",
   "metadata": {},
   "outputs": [
    {
     "name": "stdout",
     "output_type": "stream",
     "text": [
      "<class 'list'>\n"
     ]
    }
   ],
   "source": [
    "print(type(ar))"
   ]
  },
  {
   "cell_type": "markdown",
   "id": "23d3ddfc-ebee-4da7-a5f2-1fc5fa93534a",
   "metadata": {},
   "source": [
    "*******************search*************************"
   ]
  },
  {
   "cell_type": "code",
   "execution_count": 89,
   "id": "9a16cd59-e8ac-4585-b430-2c3899a1fca9",
   "metadata": {},
   "outputs": [
    {
     "data": {
      "text/plain": [
       "(array([], dtype=int64), array([], dtype=int64))"
      ]
     },
     "execution_count": 89,
     "metadata": {},
     "output_type": "execute_result"
    }
   ],
   "source": [
    "ar=np.array([ [1,3,5,7],[10,11,16,20],[23,30,34,60]])\n",
    "#              0   1   2   3   4   5 6 7 8\n",
    "x=np.where(ar==13)\n",
    "x"
   ]
  },
  {
   "cell_type": "code",
   "execution_count": 5,
   "id": "3b250c76-0317-4ef9-b12c-90a062812676",
   "metadata": {},
   "outputs": [
    {
     "data": {
      "text/plain": [
       "(array([1, 3, 5, 8], dtype=int64),)"
      ]
     },
     "execution_count": 5,
     "metadata": {},
     "output_type": "execute_result"
    }
   ],
   "source": [
    "ar=np.array([ar=np.array([ 1,  2,  3,  4,  5,  6,1,3,4])\n",
    "#              0   1   2   3   4   5 6 7 8\n",
    "x=np.where(ar==1)\n",
    "x)\n",
    "#              0   1   2   3   4   5 6 7 8\n",
    "x=np.where(ar==1)\n",
    "x"
   ]
  },
  {
   "cell_type": "markdown",
   "id": "1f2f0a24-a2ad-4953-a133-46e7a211bf6a",
   "metadata": {},
   "source": [
    "*********search sorted array**********"
   ]
  },
  {
   "cell_type": "code",
   "execution_count": 8,
   "id": "1fb48177-7426-4343-8eae-aea7e00e1ea3",
   "metadata": {},
   "outputs": [
    {
     "data": {
      "text/plain": [
       "2"
      ]
     },
     "execution_count": 8,
     "metadata": {},
     "output_type": "execute_result"
    }
   ],
   "source": [
    "ar=np.array([ 1,  2,    4,  5,  6])\n",
    "#              0   1   2   3   4  \n",
    "x=np.searchsorted(ar,3)\n",
    "x"
   ]
  },
  {
   "cell_type": "code",
   "execution_count": 9,
   "id": "abfda4a6-860d-49da-9734-9caff554b759",
   "metadata": {},
   "outputs": [
    {
     "data": {
      "text/plain": [
       "2"
      ]
     },
     "execution_count": 9,
     "metadata": {},
     "output_type": "execute_result"
    }
   ],
   "source": [
    "ar=np.array([ 1,  2,    4,  5,  6])\n",
    "#              0   1   2   3   4  \n",
    "x=np.searchsorted(ar,3,side=\"right\")\n",
    "x"
   ]
  },
  {
   "cell_type": "code",
   "execution_count": 11,
   "id": "66aedf70-85df-4394-b223-d310583dfe65",
   "metadata": {},
   "outputs": [
    {
     "data": {
      "text/plain": [
       "array([2, 3, 5], dtype=int64)"
      ]
     },
     "execution_count": 11,
     "metadata": {},
     "output_type": "execute_result"
    }
   ],
   "source": [
    "ar=np.array([ 1,  2,    4,  5,  6])\n",
    "#              0   1   2   3   4  \n",
    "x=np.searchsorted(ar,[3,4,7],side=\"right\")\n",
    "x"
   ]
  },
  {
   "cell_type": "markdown",
   "id": "ab304033-f18b-4551-98c7-2c5551f856f3",
   "metadata": {},
   "source": [
    "***************sort***********"
   ]
  },
  {
   "cell_type": "code",
   "execution_count": 12,
   "id": "a758c148-0c99-4d15-8e94-c109dfdabfe4",
   "metadata": {},
   "outputs": [
    {
     "data": {
      "text/plain": [
       "array([ 1,  2,  3,  4,  5,  6, 12, 15, 22])"
      ]
     },
     "execution_count": 12,
     "metadata": {},
     "output_type": "execute_result"
    }
   ],
   "source": [
    "ar=np.array([ 1,  2, 12,22, 3, 15, 4,  5,  6])#alphabet possible\n",
    "np.sort(ar)"
   ]
  },
  {
   "cell_type": "code",
   "execution_count": 14,
   "id": "545c885a-3b14-4dd4-a8c9-d3a195c26533",
   "metadata": {},
   "outputs": [
    {
     "data": {
      "text/plain": [
       "array(['hima', 'satya', 'sri', 'varsha'], dtype='<U6')"
      ]
     },
     "execution_count": 14,
     "metadata": {},
     "output_type": "execute_result"
    }
   ],
   "source": [
    "ar=np.array([\"varsha\",\"hima\",\"sri\",\"satya\"])\n",
    "np.sort(ar)"
   ]
  },
  {
   "cell_type": "code",
   "execution_count": 16,
   "id": "9e70ebf0-e8bd-43f0-a0db-450ce4b75e7c",
   "metadata": {},
   "outputs": [
    {
     "data": {
      "text/plain": [
       "array([[ 2,  5, 12],\n",
       "       [ 1,  8, 27]])"
      ]
     },
     "execution_count": 16,
     "metadata": {},
     "output_type": "execute_result"
    }
   ],
   "source": [
    "var=np.array([[12,2,5],[1,27,8]])\n",
    "np.sort(var)"
   ]
  },
  {
   "cell_type": "markdown",
   "id": "29b10630-298d-42e4-8d24-3496331a821a",
   "metadata": {},
   "source": [
    "****************Filter*****************"
   ]
  },
  {
   "cell_type": "code",
   "execution_count": 21,
   "id": "9c339a2f-68b4-46fa-8bd4-64b4a8880430",
   "metadata": {},
   "outputs": [
    {
     "name": "stdout",
     "output_type": "stream",
     "text": [
      "<class 'numpy.ndarray'>\n"
     ]
    },
    {
     "data": {
      "text/plain": [
       "array([ 1, 12])"
      ]
     },
     "execution_count": 21,
     "metadata": {},
     "output_type": "execute_result"
    }
   ],
   "source": [
    "#new array we will get\n",
    "ar=np.array([ 1,  2, 12,22])\n",
    "f=[True,False,True,False]\n",
    "new_a=ar[f]\n",
    "print(type(new_a))\n",
    "new_a"
   ]
  },
  {
   "cell_type": "code",
   "execution_count": null,
   "id": "c5a7664d-1815-4f65-859d-15aafb1db5e2",
   "metadata": {},
   "outputs": [],
   "source": [
    "**************shuffle\\unique\\resize\\flatten\\ravel***************"
   ]
  },
  {
   "cell_type": "code",
   "execution_count": 24,
   "id": "bf2ab9e8-d6b0-4ce7-83df-a03dfacab7e3",
   "metadata": {},
   "outputs": [
    {
     "data": {
      "text/plain": [
       "array([12,  2, 22,  1])"
      ]
     },
     "execution_count": 24,
     "metadata": {},
     "output_type": "execute_result"
    }
   ],
   "source": [
    "\n",
    "#shuffle\n",
    "ar=np.array([ 1,  2, 12,22])\n",
    "np.random.shuffle(ar)#after every run value changes\n",
    "ar"
   ]
  },
  {
   "cell_type": "code",
   "execution_count": 28,
   "id": "de960484-9bc1-47ce-a1ac-1e77599ff048",
   "metadata": {},
   "outputs": [
    {
     "data": {
      "text/plain": [
       "(array([1, 2, 5, 8]), array([0, 1, 6, 7], dtype=int64))"
      ]
     },
     "execution_count": 28,
     "metadata": {},
     "output_type": "execute_result"
    }
   ],
   "source": [
    "#unique\n",
    "ar=np.array([ 1,  2, 1,2,2,2,5,8])\n",
    "x=np.unique(ar,return_index=True)\n",
    "x"
   ]
  },
  {
   "cell_type": "code",
   "execution_count": 30,
   "id": "9196e556-75af-4b04-b13c-e03c89d83374",
   "metadata": {},
   "outputs": [
    {
     "data": {
      "text/plain": [
       "(array([1, 2, 5, 8]),\n",
       " array([0, 1, 6, 7], dtype=int64),\n",
       " array([2, 4, 1, 1], dtype=int64))"
      ]
     },
     "execution_count": 30,
     "metadata": {},
     "output_type": "execute_result"
    }
   ],
   "source": [
    "x=np.unique(ar,return_index=True,return_counts=True)\n",
    "x"
   ]
  },
  {
   "cell_type": "code",
   "execution_count": 35,
   "id": "19448cc8-0e03-4f72-8f04-7e9e24185fa1",
   "metadata": {},
   "outputs": [
    {
     "data": {
      "text/plain": [
       "array([[ 1,  2,  1],\n",
       "       [12, 22, 23],\n",
       "       [ 5,  8,  1]])"
      ]
     },
     "execution_count": 35,
     "metadata": {},
     "output_type": "execute_result"
    }
   ],
   "source": [
    "#resize\n",
    "ar=np.array([ 1,  2, 1,12,22,23,5,8])\n",
    "y=np.resize(ar,(3,3))\n",
    "y\n"
   ]
  },
  {
   "cell_type": "code",
   "execution_count": 36,
   "id": "c646ca57-3a72-48ff-a6d9-cc0dcd07bf7a",
   "metadata": {},
   "outputs": [
    {
     "data": {
      "text/plain": [
       "array([ 1,  2,  1, 12, 22, 23,  5,  8,  1])"
      ]
     },
     "execution_count": 36,
     "metadata": {},
     "output_type": "execute_result"
    }
   ],
   "source": [
    "y.flatten()#bt default c"
   ]
  },
  {
   "cell_type": "code",
   "execution_count": 39,
   "id": "bdd21a36-d37b-484a-b545-2fc70b3e7eae",
   "metadata": {},
   "outputs": [
    {
     "data": {
      "text/plain": [
       "array([ 1,  2,  1, 12, 22, 23,  5,  8,  1])"
      ]
     },
     "execution_count": 39,
     "metadata": {},
     "output_type": "execute_result"
    }
   ],
   "source": [
    "y.flatten(order=\"A\")"
   ]
  },
  {
   "cell_type": "code",
   "execution_count": 38,
   "id": "62bd8c3a-77bb-4cd1-a738-5c44444d92ee",
   "metadata": {},
   "outputs": [
    {
     "data": {
      "text/plain": [
       "array([ 1,  2,  1, 12, 22, 23,  5,  8,  1])"
      ]
     },
     "execution_count": 38,
     "metadata": {},
     "output_type": "execute_result"
    }
   ],
   "source": [
    "np.ravel(y)"
   ]
  },
  {
   "cell_type": "code",
   "execution_count": 40,
   "id": "fa380996-3ac3-4b58-b95f-096a4b6e59dd",
   "metadata": {},
   "outputs": [
    {
     "data": {
      "text/plain": [
       "array([ 1,  2,  1, 12, 22, 23,  5,  8,  1])"
      ]
     },
     "execution_count": 40,
     "metadata": {},
     "output_type": "execute_result"
    }
   ],
   "source": [
    "np.ravel(y,order=\"A\")"
   ]
  },
  {
   "cell_type": "code",
   "execution_count": null,
   "id": "18633acc-9073-42d8-af07-0bb72eb1061a",
   "metadata": {},
   "outputs": [],
   "source": [
    "********************Insert\\Delete*********************"
   ]
  },
  {
   "cell_type": "code",
   "execution_count": 42,
   "id": "be203bcf-e92e-4491-b116-aa353f157520",
   "metadata": {},
   "outputs": [
    {
     "data": {
      "text/plain": [
       "array([ 1,  2,  1, 12, 22, 23,  5,  8,  1])"
      ]
     },
     "execution_count": 42,
     "metadata": {},
     "output_type": "execute_result"
    }
   ],
   "source": [
    "var=np.array([ 1,  2,  1, 12, 22, 23,  5,  8,  1])\n",
    "var"
   ]
  },
  {
   "cell_type": "code",
   "execution_count": 44,
   "id": "d688b7d4-7b59-4065-887f-c2542fd7928b",
   "metadata": {},
   "outputs": [
    {
     "data": {
      "text/plain": [
       "array([ 1,  2, 45,  1, 12, 22, 23,  5,  8,  1])"
      ]
     },
     "execution_count": 44,
     "metadata": {},
     "output_type": "execute_result"
    }
   ],
   "source": [
    "np.insert(var,2,45)#array name,position ,value"
   ]
  },
  {
   "cell_type": "code",
   "execution_count": 47,
   "id": "648bc3af-baa6-4eb5-83a8-2dc996aadd8d",
   "metadata": {},
   "outputs": [
    {
     "data": {
      "text/plain": [
       "array([ 1,  2,  4,  1, 12, 22,  4, 23,  5,  8,  1])"
      ]
     },
     "execution_count": 47,
     "metadata": {},
     "output_type": "execute_result"
    }
   ],
   "source": [
    "np.insert(var,[2,5],45)"
   ]
  },
  {
   "cell_type": "code",
   "execution_count": 48,
   "id": "ce3d1b2b-1de9-4e60-8c58-08de28a8e107",
   "metadata": {},
   "outputs": [
    {
     "data": {
      "text/plain": [
       "array([ 1,  2,  4,  1, 12, 22,  4, 23,  5,  8,  1])"
      ]
     },
     "execution_count": 48,
     "metadata": {},
     "output_type": "execute_result"
    }
   ],
   "source": [
    "np.insert(var,[2,5],4.5)"
   ]
  },
  {
   "cell_type": "code",
   "execution_count": 51,
   "id": "c27d35aa-7e76-4bd3-9b22-cc8c9f32bcf1",
   "metadata": {},
   "outputs": [
    {
     "data": {
      "text/plain": [
       "array([ 1,  2, 45,  1, 12, 22, 45, 23,  5,  8,  1])"
      ]
     },
     "execution_count": 51,
     "metadata": {},
     "output_type": "execute_result"
    }
   ],
   "source": [
    "var4=np.array([[ 1,  2,  1],\n",
    "       [12, 22, 23],\n",
    "       [ 5,  8,  1]])\n",
    "np.insert(var4,[2,5],45)"
   ]
  },
  {
   "cell_type": "code",
   "execution_count": 58,
   "id": "78e67a97-7ddc-4a19-b812-dbaa0383a77e",
   "metadata": {},
   "outputs": [
    {
     "data": {
      "text/plain": [
       "array([ 1. ,  2. ,  1. , 12. , 22. , 23. ,  5. ,  8. ,  1. ,  6.5])"
      ]
     },
     "execution_count": 58,
     "metadata": {},
     "output_type": "execute_result"
    }
   ],
   "source": [
    "x=np.append(var4,6.5)#last pos\n",
    "x"
   ]
  },
  {
   "cell_type": "code",
   "execution_count": 61,
   "id": "ff94189e-9e92-4774-9a7b-ba472673f5d7",
   "metadata": {},
   "outputs": [
    {
     "ename": "ValueError",
     "evalue": "all the input array dimensions except for the concatenation axis must match exactly, but along dimension 1, the array at index 0 has size 3 and the array at index 1 has size 2",
     "output_type": "error",
     "traceback": [
      "\u001b[1;31m---------------------------------------------------------------------------\u001b[0m",
      "\u001b[1;31mValueError\u001b[0m                                Traceback (most recent call last)",
      "Cell \u001b[1;32mIn[61], line 1\u001b[0m\n\u001b[1;32m----> 1\u001b[0m x\u001b[38;5;241m=\u001b[39m\u001b[43mnp\u001b[49m\u001b[38;5;241;43m.\u001b[39;49m\u001b[43mappend\u001b[49m\u001b[43m(\u001b[49m\u001b[43mvar4\u001b[49m\u001b[43m,\u001b[49m\u001b[43m[\u001b[49m\u001b[43m[\u001b[49m\u001b[38;5;241;43m1\u001b[39;49m\u001b[43m,\u001b[49m\u001b[38;5;241;43m2\u001b[39;49m\u001b[43m]\u001b[49m\u001b[43m]\u001b[49m\u001b[43m,\u001b[49m\u001b[43maxis\u001b[49m\u001b[38;5;241;43m=\u001b[39;49m\u001b[38;5;241;43m0\u001b[39;49m\u001b[43m)\u001b[49m\u001b[38;5;66;03m#last pos\u001b[39;00m\n\u001b[0;32m      2\u001b[0m x\n",
      "File \u001b[1;32m~\\AppData\\Local\\Programs\\Python\\Python312\\Lib\\site-packages\\numpy\\lib\\function_base.py:5617\u001b[0m, in \u001b[0;36mappend\u001b[1;34m(arr, values, axis)\u001b[0m\n\u001b[0;32m   5615\u001b[0m     values \u001b[38;5;241m=\u001b[39m ravel(values)\n\u001b[0;32m   5616\u001b[0m     axis \u001b[38;5;241m=\u001b[39m arr\u001b[38;5;241m.\u001b[39mndim\u001b[38;5;241m-\u001b[39m\u001b[38;5;241m1\u001b[39m\n\u001b[1;32m-> 5617\u001b[0m \u001b[38;5;28;01mreturn\u001b[39;00m \u001b[43mconcatenate\u001b[49m\u001b[43m(\u001b[49m\u001b[43m(\u001b[49m\u001b[43marr\u001b[49m\u001b[43m,\u001b[49m\u001b[43m \u001b[49m\u001b[43mvalues\u001b[49m\u001b[43m)\u001b[49m\u001b[43m,\u001b[49m\u001b[43m \u001b[49m\u001b[43maxis\u001b[49m\u001b[38;5;241;43m=\u001b[39;49m\u001b[43maxis\u001b[49m\u001b[43m)\u001b[49m\n",
      "\u001b[1;31mValueError\u001b[0m: all the input array dimensions except for the concatenation axis must match exactly, but along dimension 1, the array at index 0 has size 3 and the array at index 1 has size 2"
     ]
    }
   ],
   "source": [
    "x=np.append(var4,[[1,2]],axis=0)#last pos\n",
    "x"
   ]
  },
  {
   "cell_type": "code",
   "execution_count": 64,
   "id": "d09972c0-d8bb-4823-a455-fe090a02d194",
   "metadata": {},
   "outputs": [
    {
     "data": {
      "text/plain": [
       "array([ 1,  2, 12, 22, 23,  5,  8,  1])"
      ]
     },
     "execution_count": 64,
     "metadata": {},
     "output_type": "execute_result"
    }
   ],
   "source": [
    "var4=np.array([[ 1,  2,  1],\n",
    "       [12, 22, 23],\n",
    "       [ 5,  8,  1]])\n",
    "d=np.delete(var4,2)\n",
    "d"
   ]
  },
  {
   "cell_type": "markdown",
   "id": "d650ebb1-afe6-4200-866f-68221059ccc2",
   "metadata": {},
   "source": [
    "****************Matrix********************"
   ]
  },
  {
   "cell_type": "code",
   "execution_count": 66,
   "id": "8d9dc752-0250-4757-89df-b64dde1ff7f1",
   "metadata": {},
   "outputs": [
    {
     "data": {
      "text/plain": [
       "matrix([[ 1,  2,  1],\n",
       "        [12, 22, 23],\n",
       "        [ 5,  8,  1]])"
      ]
     },
     "execution_count": 66,
     "metadata": {},
     "output_type": "execute_result"
    }
   ],
   "source": [
    "var=np.matrix([[ 1,  2,  1],\n",
    "       [12, 22, 23],\n",
    "       [ 5,  8,  1]])\n",
    "var"
   ]
  },
  {
   "cell_type": "code",
   "execution_count": 67,
   "id": "31b3de11-772b-4a58-8be0-d2d096459b70",
   "metadata": {},
   "outputs": [
    {
     "data": {
      "text/plain": [
       "array([[ 1,  2,  1],\n",
       "       [12, 22, 23],\n",
       "       [ 5,  8,  1]])"
      ]
     },
     "execution_count": 67,
     "metadata": {},
     "output_type": "execute_result"
    }
   ],
   "source": [
    "var=np.array([[ 1,  2,  1],\n",
    "       [12, 22, 23],\n",
    "       [ 5,  8,  1]])\n",
    "var"
   ]
  },
  {
   "cell_type": "code",
   "execution_count": 71,
   "id": "aeadd969-39a9-4c5e-b40a-84ff189a4e19",
   "metadata": {},
   "outputs": [
    {
     "data": {
      "text/plain": [
       "matrix([[ 2,  4, 32],\n",
       "        [24, 24, 25],\n",
       "        [10, 16, 18]])"
      ]
     },
     "execution_count": 71,
     "metadata": {},
     "output_type": "execute_result"
    }
   ],
   "source": [
    "var=np.matrix([[ 1,  2,  1],\n",
    "       [12, 22, 23],\n",
    "       [ 5,  8,  1]])\n",
    "var1=np.matrix([[ 1,  2,  31],\n",
    "       [12, 2, 2],\n",
    "       [ 5,  8,  17]])\n",
    "var+var1"
   ]
  },
  {
   "cell_type": "code",
   "execution_count": 72,
   "id": "586cd89a-6c79-4b4f-ac92-ef349b1f765e",
   "metadata": {},
   "outputs": [
    {
     "data": {
      "text/plain": [
       "matrix([[  0,   0, -30],\n",
       "        [  0,  20,  21],\n",
       "        [  0,   0, -16]])"
      ]
     },
     "execution_count": 72,
     "metadata": {},
     "output_type": "execute_result"
    }
   ],
   "source": [
    "var-var1"
   ]
  },
  {
   "cell_type": "code",
   "execution_count": 73,
   "id": "2cb045a1-2b82-446d-a1b6-66bb28cfc612",
   "metadata": {},
   "outputs": [
    {
     "data": {
      "text/plain": [
       "matrix([[ 30,  14,  52],\n",
       "        [391, 252, 807],\n",
       "        [106,  34, 188]])"
      ]
     },
     "execution_count": 73,
     "metadata": {},
     "output_type": "execute_result"
    }
   ],
   "source": [
    "var*var1"
   ]
  },
  {
   "cell_type": "markdown",
   "id": "e39f6780-4844-401b-ac5f-347c250e5eb0",
   "metadata": {},
   "source": [
    "**************matrix func->transpose,swapaxes,inverse,power,determinate***********"
   ]
  },
  {
   "cell_type": "code",
   "execution_count": 75,
   "id": "331ef12e-75a9-4ccd-8a2c-9230693c26fc",
   "metadata": {},
   "outputs": [
    {
     "data": {
      "text/plain": [
       "matrix([[ 30,  14,  52],\n",
       "        [391, 252, 807],\n",
       "        [106,  34, 188]])"
      ]
     },
     "execution_count": 75,
     "metadata": {},
     "output_type": "execute_result"
    }
   ],
   "source": [
    "b=np.matrix([[ 30,  14,  52],\n",
    "        [391, 252, 807],\n",
    "        [106,  34, 188]])\n",
    "b"
   ]
  },
  {
   "cell_type": "code",
   "execution_count": 76,
   "id": "82ccad94-cfc0-4358-80a6-2b149d9547f2",
   "metadata": {},
   "outputs": [
    {
     "data": {
      "text/plain": [
       "matrix([[ 30, 391, 106],\n",
       "        [ 14, 252,  34],\n",
       "        [ 52, 807, 188]])"
      ]
     },
     "execution_count": 76,
     "metadata": {},
     "output_type": "execute_result"
    }
   ],
   "source": [
    "np.transpose(b)"
   ]
  },
  {
   "cell_type": "code",
   "execution_count": 77,
   "id": "1e677381-d908-4926-8cf8-29e3551e32ed",
   "metadata": {},
   "outputs": [
    {
     "data": {
      "text/plain": [
       "matrix([[ 30, 391, 106],\n",
       "        [ 14, 252,  34],\n",
       "        [ 52, 807, 188]])"
      ]
     },
     "execution_count": 77,
     "metadata": {},
     "output_type": "execute_result"
    }
   ],
   "source": [
    "b.T"
   ]
  },
  {
   "cell_type": "code",
   "execution_count": 79,
   "id": "070bd078-a212-4048-816f-20758fdebbfe",
   "metadata": {},
   "outputs": [
    {
     "data": {
      "text/plain": [
       "matrix([[ 30, 391, 106],\n",
       "        [ 14, 252,  34],\n",
       "        [ 52, 807, 188]])"
      ]
     },
     "execution_count": 79,
     "metadata": {},
     "output_type": "execute_result"
    }
   ],
   "source": [
    "#swapaxss\n",
    "np.swapaxes(b,0,1)"
   ]
  },
  {
   "cell_type": "code",
   "execution_count": 80,
   "id": "86bc755d-a27a-433e-b29a-e95478420245",
   "metadata": {},
   "outputs": [
    {
     "data": {
      "text/plain": [
       "matrix([[ 0.28945993, -0.01254355, -0.02621951],\n",
       "        [ 0.17470964,  0.0018583 , -0.05630081],\n",
       "        [-0.19480256,  0.00673635,  0.03028455]])"
      ]
     },
     "execution_count": 80,
     "metadata": {},
     "output_type": "execute_result"
    }
   ],
   "source": [
    "#inverse\n",
    "np.linalg.inv(b)"
   ]
  },
  {
   "cell_type": "code",
   "execution_count": 85,
   "id": "c7d1d8a6-0465-4672-bcb5-e56cbd023222",
   "metadata": {},
   "outputs": [
    {
     "data": {
      "text/plain": [
       "matrix([[ 30,  54,  48],\n",
       "        [391, 692, 541],\n",
       "        [106, 194, 190]])"
      ]
     },
     "execution_count": 85,
     "metadata": {},
     "output_type": "execute_result"
    }
   ],
   "source": [
    "\n",
    "var=np.matrix([[ 1,  2,  1],\n",
    "       [12, 22, 23],\n",
    "       [ 5,  8,  1]])\n",
    "np.linalg.matrix_power(var,2)"
   ]
  },
  {
   "cell_type": "code",
   "execution_count": 86,
   "id": "07ee139e-ff34-4033-8562-96235b3e00ee",
   "metadata": {},
   "outputs": [
    {
     "data": {
      "text/plain": [
       "matrix([[1, 0, 0],\n",
       "        [0, 1, 0],\n",
       "        [0, 0, 1]])"
      ]
     },
     "execution_count": 86,
     "metadata": {},
     "output_type": "execute_result"
    }
   ],
   "source": [
    "np.linalg.matrix_power(var,0)"
   ]
  },
  {
   "cell_type": "code",
   "execution_count": 87,
   "id": "1228506c-ac7e-4d33-9cf9-c3f46c23a414",
   "metadata": {},
   "outputs": [
    {
     "data": {
      "text/plain": [
       "matrix([[ 29.47333333,  -1.05333333,  -4.44666667],\n",
       "        [-18.82666667,   0.68      ,   2.82      ],\n",
       "        [  2.78      ,  -0.10666667,  -0.39333333]])"
      ]
     },
     "execution_count": 87,
     "metadata": {},
     "output_type": "execute_result"
    }
   ],
   "source": [
    "np.linalg.matrix_power(var,-2)#inverse"
   ]
  },
  {
   "cell_type": "code",
   "execution_count": 88,
   "id": "e6bb984a-9022-4fd4-9601-f85a6e717ba6",
   "metadata": {},
   "outputs": [
    {
     "data": {
      "text/plain": [
       "68880.00000000001"
      ]
     },
     "execution_count": 88,
     "metadata": {},
     "output_type": "execute_result"
    }
   ],
   "source": [
    "#determinant\n",
    "np.linalg.det(b)"
   ]
  },
  {
   "cell_type": "code",
   "execution_count": null,
   "id": "698ef2e3-7369-4fb8-a405-557787084476",
   "metadata": {},
   "outputs": [],
   "source": []
  }
 ],
 "metadata": {
  "kernelspec": {
   "display_name": "Python 3 (ipykernel)",
   "language": "python",
   "name": "python3"
  },
  "language_info": {
   "codemirror_mode": {
    "name": "ipython",
    "version": 3
   },
   "file_extension": ".py",
   "mimetype": "text/x-python",
   "name": "python",
   "nbconvert_exporter": "python",
   "pygments_lexer": "ipython3",
   "version": "3.12.1"
  }
 },
 "nbformat": 4,
 "nbformat_minor": 5
}
